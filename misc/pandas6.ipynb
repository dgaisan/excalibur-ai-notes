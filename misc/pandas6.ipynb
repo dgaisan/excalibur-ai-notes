{
 "cells": [
  {
   "cell_type": "code",
   "execution_count": 3,
   "metadata": {},
   "outputs": [],
   "source": [
    "import pandas as pd\n",
    "import numpy as np\n",
    "from datetime import datetime"
   ]
  },
  {
   "cell_type": "code",
   "execution_count": 7,
   "metadata": {},
   "outputs": [
    {
     "name": "stdout",
     "output_type": "stream",
     "text": [
      "Vertical\n",
      "   A  B\n",
      "0  0  2\n",
      "1  1  3\n",
      "2  2  4\n",
      "3  3  5\n",
      "0  0  2\n",
      "1  1  3\n",
      "2  2  4\n",
      "3  3  5\n",
      "Vertical No Index\n",
      "   A  B\n",
      "0  0  2\n",
      "1  1  3\n",
      "2  2  4\n",
      "3  3  5\n",
      "4  0  2\n",
      "5  1  3\n",
      "6  2  4\n",
      "7  3  5\n",
      "Horizontal\n",
      "   A  B  A  B\n",
      "0  0  2  0  2\n",
      "1  1  3  1  3\n",
      "2  2  4  2  4\n",
      "3  3  5  3  5\n"
     ]
    }
   ],
   "source": [
    "df1 = pd.DataFrame({\n",
    "    \"A\": [0, 1, 2, 3], \n",
    "    \"B\": [2, 3, 4, 5]\n",
    "})\n",
    "df2 = pd.DataFrame({\n",
    "    \"A\": [0, 1, 2, 3], \n",
    "    \"B\": [2, 3, 4, 5]\n",
    "})\n",
    "\n",
    "print(\"Vertical\")\n",
    "vertical = pd.concat([df1, df2])\n",
    "print(vertical)\n",
    "\n",
    "print(\"Vertical No Index\")\n",
    "print(vertical.reset_index(drop=True))\n",
    "\n",
    "print(\"Horizontal\")\n",
    "horizontal = pd.concat([df1, df2], axis=1)\n",
    "print(horizontal)"
   ]
  },
  {
   "cell_type": "code",
   "execution_count": 11,
   "metadata": {},
   "outputs": [
    {
     "name": "stdout",
     "output_type": "stream",
     "text": [
      "  connection   d   b\n",
      "0         k1  D2  B1\n",
      "1         k2  D3  B2\n",
      "2         k3  D4  B3\n",
      "  connection    d    b\n",
      "0         k0   D1  NaN\n",
      "1         k1   D2   B1\n",
      "2         k2   D3   B2\n",
      "3         k3   D4   B3\n",
      "4         k4  NaN   B4\n",
      "  connection   d    b\n",
      "0         k0  D1  NaN\n",
      "1         k1  D2   B1\n",
      "2         k2  D3   B2\n",
      "3         k3  D4   B3\n",
      "  connection    d   b\n",
      "0         k1   D2  B1\n",
      "1         k2   D3  B2\n",
      "2         k3   D4  B3\n",
      "3         k4  NaN  B4\n"
     ]
    }
   ],
   "source": [
    "df1 = pd.DataFrame({\n",
    "    \"connection\": [\"k0\", \"k1\", \"k2\", \"k3\"], \n",
    "    \"d\": [\"D1\", \"D2\", \"D3\", \"D4\"]\n",
    "})\n",
    "df2 = pd.DataFrame({\n",
    "    \"connection\": [\"k1\", \"k2\", \"k3\", \"k4\"], \n",
    "    \"b\": [\"B1\", \"B2\", \"B3\", \"B4\"]\n",
    "})\n",
    "\n",
    "# Inner Join\n",
    "inner_join = pd.merge(df1, df2, on=\"connection\", how=\"inner\")\n",
    "print(inner_join)\n",
    "\n",
    "# Outter Join\n",
    "print(pd.merge(df1, df2, on=\"connection\", how=\"outer\"))\n",
    "\n",
    "# Left Join\n",
    "print(pd.merge(df1, df2, on=\"connection\", how=\"left\"))\n",
    "\n",
    "# right Join\n",
    "print(pd.merge(df1, df2, on=\"connection\", how=\"right\"))\n"
   ]
  },
  {
   "cell_type": "code",
   "execution_count": 14,
   "metadata": {},
   "outputs": [
    {
     "name": "stdout",
     "output_type": "stream",
     "text": [
      "     x\n",
      "B0  k0\n",
      "B1  k1\n",
      "B2  k2\n",
      "B3  k3\n",
      "     y\n",
      "B1  k1\n",
      "B2  k2\n",
      "B3  k3\n",
      "B4  k4\n",
      "     x   y\n",
      "B1  k1  k1\n",
      "B2  k2  k2\n",
      "B3  k3  k3\n"
     ]
    }
   ],
   "source": [
    "df1 = pd.DataFrame({\n",
    "    \"x\": [\"k0\", \"k1\", \"k2\", \"k3\"]\n",
    "}, index=[\"B0\", \"B1\", \"B2\", \"B3\"])\n",
    "df2 = pd.DataFrame({\n",
    "    \"y\": [\"k1\", \"k2\", \"k3\", \"k4\"]\n",
    "}, index=[\"B1\", \"B2\", \"B3\", \"B4\"])\n",
    "\n",
    "print(df1)\n",
    "print(df2)\n",
    "\n",
    "result = df1.join(df2, how=\"inner\")\n",
    "print(result)"
   ]
  },
  {
   "cell_type": "code",
   "execution_count": 19,
   "metadata": {},
   "outputs": [
    {
     "name": "stdout",
     "output_type": "stream",
     "text": [
      "  keys  values\n",
      "0   ax       1\n",
      "1   bx       2\n",
      "2   ax       3\n",
      "3   bx       4\n",
      "--- mean\n",
      "      values\n",
      "keys        \n",
      "ax       2.0\n",
      "bx       3.0\n",
      "--- head\n",
      "  keys  values\n",
      "0   ax       1\n",
      "1   bx       2\n",
      "2   ax       3\n",
      "3   bx       4\n",
      "--- sum\n",
      "      values\n",
      "keys        \n",
      "ax         4\n",
      "bx         6\n"
     ]
    }
   ],
   "source": [
    "df = pd.DataFrame({\"keys\": [\"ax\", \"bx\", \"ax\", \"bx\"], \"values\": [1,2,3,4]})\n",
    "print(df)\n",
    "\n",
    "grouping = df.groupby(\"keys\")\n",
    "print(\"--- mean\")\n",
    "print(grouping.mean())\n",
    "print(\"--- head\")\n",
    "print(grouping.head())\n",
    "print(\"--- sum\")\n",
    "print(grouping.sum())"
   ]
  },
  {
   "cell_type": "code",
   "execution_count": 23,
   "metadata": {},
   "outputs": [
    {
     "name": "stdout",
     "output_type": "stream",
     "text": [
      "    variable   value\n",
      "0  platoform       X\n",
      "1  platoform      FB\n",
      "2  platoform      G+\n",
      "3     Gender    male\n",
      "4     Gender    male\n",
      "5     Gender  female\n"
     ]
    }
   ],
   "source": [
    "df_users = pd.DataFrame({\n",
    "    \"platoform\": [\"X\", \"FB\", \"G+\"],\n",
    "    \"Gender\": [\"male\", \"male\", \"female\"]\n",
    "})\n",
    "\n",
    "#print(df_users)\n",
    "\n",
    "result = df_users.melt()\n",
    "print(result)"
   ]
  },
  {
   "cell_type": "code",
   "execution_count": 24,
   "metadata": {},
   "outputs": [
    {
     "name": "stdout",
     "output_type": "stream",
     "text": [
      "<class 'pandas.core.frame.DataFrame'>\n",
      "RangeIndex: 3 entries, 0 to 2\n",
      "Data columns (total 2 columns):\n",
      " #   Column  Non-Null Count  Dtype         \n",
      "---  ------  --------------  -----         \n",
      " 0   date    3 non-null      datetime64[ns]\n",
      " 1   values  3 non-null      int64         \n",
      "dtypes: datetime64[ns](1), int64(1)\n",
      "memory usage: 180.0 bytes\n",
      "None\n"
     ]
    }
   ],
   "source": [
    "time = pd.DataFrame({\n",
    "    \"date\": [\"2024-01-01\", \"2023-02-02\", \"2021-03-05\"],\n",
    "    \"values\": [1, 2, 3]\n",
    "})\n",
    "\n",
    "time[\"date\"] = pd.to_datetime(time[\"date\"])\n",
    "print(time.info())"
   ]
  },
  {
   "cell_type": "code",
   "execution_count": 27,
   "metadata": {},
   "outputs": [
    {
     "name": "stdout",
     "output_type": "stream",
     "text": [
      "2024-01-01 00:00:00\n",
      "2023-02-02 00:00:00\n",
      "333 days 00:00:00\n",
      "None\n"
     ]
    }
   ],
   "source": [
    "print(time[\"date\"].iloc[0])\n",
    "print(time[\"date\"].iloc[1])\n",
    "print(print(time[\"date\"].iloc[0] - time[\"date\"].iloc[1]))\n",
    "\n"
   ]
  },
  {
   "cell_type": "code",
   "execution_count": 29,
   "metadata": {},
   "outputs": [
    {
     "name": "stderr",
     "output_type": "stream",
     "text": [
      "Matplotlib is building the font cache; this may take a moment.\n"
     ]
    },
    {
     "data": {
      "text/plain": [
       "<Axes: >"
      ]
     },
     "execution_count": 29,
     "metadata": {},
     "output_type": "execute_result"
    },
    {
     "data": {
      "image/png": "[encoded data removed]",
      "text/plain": [
       "<Figure size 640x480 with 1 Axes>"
      ]
     },
     "metadata": {},
     "output_type": "display_data"
    }
   ],
   "source": [
    "note = pd.DataFrame({\n",
    "    \"math\": [10, 9, 4],\n",
    "    \"physics\": [9, 7, 10]\n",
    "})\n",
    "\n",
    "note.plot(kind=\"bar\")"
   ]
  }
 ],
 "metadata": {
  "kernelspec": {
   "display_name": "excalibur",
   "language": "python",
   "name": "python3"
  },
  "language_info": {
   "codemirror_mode": {
    "name": "ipython",
    "version": 3
   },
   "file_extension": ".py",
   "mimetype": "text/x-python",
   "name": "python",
   "nbconvert_exporter": "python",
   "pygments_lexer": "ipython3",
   "version": "3.12.5"
  }
 },
 "nbformat": 4,
 "nbformat_minor": 2
}
