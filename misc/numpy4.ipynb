{
 "cells": [
  {
   "cell_type": "code",
   "execution_count": 2,
   "metadata": {},
   "outputs": [],
   "source": [
    "# All imports\n",
    "import numpy as np\n",
    "import sys\n",
    "import time"
   ]
  },
  {
   "cell_type": "markdown",
   "metadata": {},
   "source": [
    "### **Python Lists vs NumPy Arrays**"
   ]
  },
  {
   "cell_type": "code",
   "execution_count": 3,
   "metadata": {},
   "outputs": [
    {
     "name": "stdout",
     "output_type": "stream",
     "text": [
      "[2, 4, 6, 8]\n"
     ]
    }
   ],
   "source": [
    "# Python list\n",
    "my_list = [1, 2, 3, 4]\n",
    "\n",
    "# List element-wise addition requires explicit looping\n",
    "result = [x + y for x, y in zip(my_list, my_list)]\n",
    "print(result)  # Output: [2, 4, 6, 8]"
   ]
  },
  {
   "cell_type": "markdown",
   "metadata": {},
   "source": [
    "- **Dynamic and flexible:** Lists in Python are versatile and can store mixed data types (e.g., integers, strings, floats) in a single list. This makes lists highly flexible.\n",
    "- **Slow for numerical computations:** Lists are slow when it comes to numerical computations because of the dynamic typing and memory overhead associated with each element in the list. Python lists are essentially arrays of pointers to objects, so accessing and manipulating these objects has significant overhead.\n",
    "- **Element-wise operations:** Element-wise operations on lists require explicit loops. For example, if you want to add two lists element by element, you need a loop or list comprehension."
   ]
  },
  {
   "cell_type": "code",
   "execution_count": 4,
   "metadata": {},
   "outputs": [
    {
     "name": "stdout",
     "output_type": "stream",
     "text": [
      "[2 4 6 8]\n"
     ]
    }
   ],
   "source": [
    "# make sure you installed numpy at first with `pip install numpy`\n",
    "import numpy as np\n",
    "\n",
    "# NumPy array\n",
    "my_array = np.array([1, 2, 3, 4])\n",
    "\n",
    "# Element-wise addition is performed without loops\n",
    "result = my_array + my_array\n",
    "print(result)  # Output: [2, 4, 6, 8]"
   ]
  },
  {
   "cell_type": "markdown",
   "metadata": {},
   "source": [
    "- **Homogeneous data types:** Unlike Python lists, NumPy arrays require that all elements have the same data type. This makes them more memory-efficient and faster for numerical computations.\n",
    "- **Efficient memory usage:** NumPy arrays use contiguous blocks of memory, which allows for faster access and manipulation. Additionally, they support vectorized operations, meaning element-wise operations can be performed without explicit loops.\n",
    "- **Optimized for numerical tasks:** NumPy arrays are specifically designed for numerical operations, such as matrix manipulations, linear algebra, and more."
   ]
  },
  {
   "cell_type": "markdown",
   "metadata": {},
   "source": [
    "### **Data types in NumPy**\n",
    "\n",
    "More in depth explanation and all the datatypes from here: https://numpy.org/devdocs/user/basics.types.html"
   ]
  },
  {
   "cell_type": "code",
   "execution_count": 5,
   "metadata": {},
   "outputs": [
    {
     "name": "stdout",
     "output_type": "stream",
     "text": [
      "42\n",
      "42\n",
      "42\n",
      "42\n"
     ]
    }
   ],
   "source": [
    "# integer types\n",
    "print(np.int8(42)) # 8-bit integer (-128 to 127)\n",
    "print(np.int16(42)) # 16-bit integer (-32768 to 32767)\n",
    "print(np.int32(42)) # 32-bit integer (-2147483648 to 2147483647)\n",
    "print(np.int64(42)) # 64-bit integer a lot of range details: https://stackoverflow.com/questions/49762240/what-is-max-size-of-the-file-in-64-bit-system-using-numpy-memory-mapping"
   ]
  },
  {
   "cell_type": "code",
   "execution_count": 6,
   "metadata": {},
   "outputs": [
    {
     "name": "stdout",
     "output_type": "stream",
     "text": [
      "42\n",
      "42\n",
      "42\n",
      "42\n"
     ]
    }
   ],
   "source": [
    "# unsigned integer types are basically the same as signed integer types, but they can only store non-negative values\n",
    "print(np.uint8(42)) # 8-bit unsigned integer (0 to 255)\n",
    "print(np.uint16(42)) # 16-bit unsigned integer (0 to 65535)\n",
    "print(np.uint32(42)) # 32-bit unsigned integer (0 to 4294967295)\n",
    "print(np.uint64(42)) # 64-bit unsigned integer (0 to 18446744073709551615)"
   ]
  },
  {
   "cell_type": "code",
   "execution_count": 7,
   "metadata": {},
   "outputs": [
    {
     "name": "stdout",
     "output_type": "stream",
     "text": [
      "42.0\n",
      "42.0\n",
      "42.0\n"
     ]
    }
   ],
   "source": [
    "# floating-point types are basically the same as integer types, but they can store fractional values\n",
    "print(np.float16(42.0)) # 16-bit floating-point number\n",
    "print(np.float32(42.0)) # 32-bit floating-point number\n",
    "print(np.float64(42.0)) # 64-bit floating-point number"
   ]
  },
  {
   "cell_type": "code",
   "execution_count": 8,
   "metadata": {},
   "outputs": [
    {
     "name": "stdout",
     "output_type": "stream",
     "text": [
      "(42+42j)\n",
      "(42+42j)\n"
     ]
    }
   ],
   "source": [
    "# complex types are complex numbers, which have a real part and an imaginary part\n",
    "print(np.complex64(42 + 42j)) # 64-bit complex number\n",
    "print(np.complex128(42 + 42j)) # 128-bit complex number"
   ]
  },
  {
   "cell_type": "code",
   "execution_count": 9,
   "metadata": {},
   "outputs": [
    {
     "name": "stdout",
     "output_type": "stream",
     "text": [
      "True\n"
     ]
    }
   ],
   "source": [
    "# boolean types are either True or False\n",
    "print(np.bool_(True)) # Boolean"
   ]
  },
  {
   "cell_type": "code",
   "execution_count": 10,
   "metadata": {},
   "outputs": [
    {
     "name": "stdout",
     "output_type": "stream",
     "text": [
      "Python list time: 0.057222843170166016\n",
      "NumPy array time: 0.039507150650024414\n",
      "8056\n",
      "8000\n",
      "numpy.int8 time: 0.0015807151794433594\n",
      "numpy.int64 time: 7.605552673339844e-05\n"
     ]
    }
   ],
   "source": [
    "# Make sure your data is in the appropriate format, because of memory efficiency and performance\n",
    "\n",
    "# Python list multiplication\n",
    "my_list = list(range(1000000))\n",
    "start_time = time.time()\n",
    "result = [x * 2 for x in my_list]\n",
    "print(\"Python list time:\", time.time() - start_time)\n",
    "\n",
    "# NumPy array multiplication\n",
    "my_array = np.arange(1000000)\n",
    "start_time = time.time()\n",
    "result = my_array * 2\n",
    "print(\"NumPy array time:\", time.time() - start_time)\n",
    "\n",
    "# NumPy arrays are more memory efficient than Python lists\n",
    "\n",
    "# Python list\n",
    "my_list = list(range(1000))\n",
    "print(sys.getsizeof(my_list))\n",
    "\n",
    "# NumPy array\n",
    "my_array = np.arange(1000)\n",
    "print(my_array.itemsize * my_array.size)\n",
    "\n",
    "# Comparing numpy data types\n",
    "\n",
    "# numpy.int8\n",
    "array_int8 = np.arange(1000, dtype=np.int8)\n",
    "start_time = time.time()\n",
    "result = array_int8 * 2\n",
    "print(\"numpy.int8 time:\", time.time() - start_time)\n",
    "\n",
    "# numpy.int64\n",
    "array_int64 = np.arange(1000, dtype=np.int64)\n",
    "start_time = time.time()\n",
    "result = array_int64 * 2\n",
    "print(\"numpy.int64 time:\", time.time() - start_time)\n",
    "\n",
    "\n"
   ]
  },
  {
   "cell_type": "markdown",
   "metadata": {},
   "source": [
    "### **Multidimensionality**\n",
    "\n",
    "NumPy arrays can have multiple dimensions. For example, a 1D array is like a list, a 2D array is like a matrix, and a 3D array is like a cube.\n",
    "\n",
    "- **1D Array** (Vector): A sequence of numbers.\n",
    "  - **Example:** [1, 2, 3, 4] (shape: (4,))\n",
    "- **2D Array **(Matrix): A grid of numbers, where each row is a list.\n",
    "  - **Example:** [[1, 2], [3, 4]] (shape: (2, 2))\n",
    "- **3D Array**: A cube of numbers (stack of matrices).\n",
    "  - **Example:** [[[1, 2], [3, 4]], [[5, 6], [7, 8]]] (shape: (2, 2, 2))\n",
    "- **N-Dimensional Array**: An array with any number of dimensions.\n",
    "\n",
    "Each NumPy array has an attribute called `.shape`, which tells you the size of each dimension of the array. For example, a 2D array might have a shape (3, 4), indicating that the array has 3 rows and 4 columns.\n",
    "- A 1D array with shape (n,) has n elements.\n",
    "- A 2D array with shape (m, n) has m rows and n columns.\n",
    "- A 3D array with shape (p, m, n) can be viewed as p matrices of shape (m, n).\n"
   ]
  },
  {
   "cell_type": "code",
   "execution_count": 11,
   "metadata": {},
   "outputs": [
    {
     "name": "stdout",
     "output_type": "stream",
     "text": [
      "[1 2 3 4]\n",
      "Shape: (4,)\n"
     ]
    }
   ],
   "source": [
    "# Creating a 1D array\n",
    "arr_1d = np.array([1, 2, 3, 4])\n",
    "print(arr_1d)\n",
    "print(\"Shape:\", arr_1d.shape)  # Output: (4,)"
   ]
  },
  {
   "cell_type": "code",
   "execution_count": 12,
   "metadata": {},
   "outputs": [
    {
     "name": "stdout",
     "output_type": "stream",
     "text": [
      "[[1 2]\n",
      " [3 4]]\n",
      "Shape: (2, 2)\n"
     ]
    }
   ],
   "source": [
    "# Creating a 2D array\n",
    "arr_2d = np.array([[1, 2], [3, 4]])\n",
    "print(arr_2d)\n",
    "print(\"Shape:\", arr_2d.shape)  # Output: (2, 2)"
   ]
  },
  {
   "cell_type": "code",
   "execution_count": 13,
   "metadata": {},
   "outputs": [
    {
     "name": "stdout",
     "output_type": "stream",
     "text": [
      "[[[1 2]\n",
      "  [3 4]]\n",
      "\n",
      " [[5 6]\n",
      "  [7 8]]]\n",
      "Shape: (2, 2, 2)\n"
     ]
    }
   ],
   "source": [
    "# Creating a 3D array\n",
    "arr_3d = np.array([[[1, 2], [3, 4]], [[5, 6], [7, 8]]])\n",
    "print(arr_3d)\n",
    "print(\"Shape:\", arr_3d.shape)  # Output: (2, 2, 2)"
   ]
  },
  {
   "cell_type": "code",
   "execution_count": 14,
   "metadata": {},
   "outputs": [
    {
     "name": "stdout",
     "output_type": "stream",
     "text": [
      "[1 2 3 4 5 6 7 8]\n",
      "Shape: (8,)\n",
      "[[1 2 3 4]\n",
      " [5 6 7 8]]\n",
      "Shape: (2, 4)\n",
      "[[[1 2]\n",
      "  [3 4]]\n",
      "\n",
      " [[5 6]\n",
      "  [7 8]]]\n",
      "Shape: (2, 2, 2)\n"
     ]
    }
   ],
   "source": [
    "# Playing with dimensions\n",
    "arr = np.array([1, 2, 3, 4, 5, 6, 7, 8])\n",
    "print(arr)\n",
    "print(\"Shape:\", arr.shape)  # Output: (8,)\n",
    "arr_2d = arr.reshape(2, 4)\n",
    "print(arr_2d)\n",
    "print(\"Shape:\", arr_2d.shape)  # Output: (2, 4)\n",
    "arr_3d = arr.reshape(2, 2, 2)\n",
    "print(arr_3d)\n",
    "print(\"Shape:\", arr_3d.shape)  # Output: (2, 2, 2)"
   ]
  },
  {
   "cell_type": "markdown",
   "metadata": {},
   "source": [
    "### **Array Creation in NumPy**"
   ]
  },
  {
   "cell_type": "code",
   "execution_count": 15,
   "metadata": {},
   "outputs": [
    {
     "name": "stdout",
     "output_type": "stream",
     "text": [
      "[0 2 4 6 8]\n"
     ]
    }
   ],
   "source": [
    "arr = np.arange(0, 10, 2) # Start at 0, stop at 10, step by 2\n",
    "print(arr) # Output: [0 2 4 6 8]"
   ]
  },
  {
   "cell_type": "code",
   "execution_count": 16,
   "metadata": {},
   "outputs": [
    {
     "name": "stdout",
     "output_type": "stream",
     "text": [
      "[0.   0.25 0.5  0.75 1.  ]\n"
     ]
    }
   ],
   "source": [
    "arr = np.linspace(0, 1, 5) # Start at 0, stop at 1, with 5 elements\n",
    "print(arr)  # Output: [0.   0.25 0.5  0.75 1.  ]"
   ]
  },
  {
   "cell_type": "code",
   "execution_count": 17,
   "metadata": {},
   "outputs": [
    {
     "name": "stdout",
     "output_type": "stream",
     "text": [
      "[[0. 0. 0.]\n",
      " [0. 0. 0.]]\n"
     ]
    }
   ],
   "source": [
    "arr = np.zeros((2, 3)) # Create a 2x3 array of zeros\n",
    "print(arr)\n",
    "# Output:\n",
    "# [[0. 0. 0.]\n",
    "#  [0. 0. 0.]]"
   ]
  },
  {
   "cell_type": "code",
   "execution_count": 18,
   "metadata": {},
   "outputs": [
    {
     "name": "stdout",
     "output_type": "stream",
     "text": [
      "[[1. 1.]\n",
      " [1. 1.]\n",
      " [1. 1.]]\n"
     ]
    }
   ],
   "source": [
    "arr = np.ones((3, 2)) # Create a 3x2 array of ones\n",
    "print(arr)\n",
    "# Output:\n",
    "# [[1. 1.]\n",
    "#  [1. 1.]\n",
    "#  [1. 1.]]\n"
   ]
  },
  {
   "cell_type": "code",
   "execution_count": 19,
   "metadata": {},
   "outputs": [
    {
     "name": "stdout",
     "output_type": "stream",
     "text": [
      "[[1. 0. 0.]\n",
      " [0. 1. 0.]\n",
      " [0. 0. 1.]]\n"
     ]
    }
   ],
   "source": [
    "arr = np.eye(3) # Create a 3x3 identity matrix\n",
    "print(arr)\n",
    "# Output:\n",
    "# [[1. 0. 0.]\n",
    "#  [0. 1. 0.]\n",
    "#  [0. 0. 1.]]"
   ]
  },
  {
   "cell_type": "code",
   "execution_count": 20,
   "metadata": {},
   "outputs": [
    {
     "name": "stdout",
     "output_type": "stream",
     "text": [
      "[[0.99428532 0.65474758 0.87693658]\n",
      " [0.49054464 0.06148041 0.76261034]]\n"
     ]
    }
   ],
   "source": [
    "arr = np.random.rand(2, 3) # Create a 2x3 array of random numbers between 0 and 1\n",
    "print(arr)\n",
    "# Output:\n",
    "# [[0.61446471 0.78552799 0.14013453]\n",
    "#  [0.9239703  0.30630796 0.01995603]]"
   ]
  },
  {
   "cell_type": "code",
   "execution_count": 21,
   "metadata": {},
   "outputs": [
    {
     "name": "stdout",
     "output_type": "stream",
     "text": [
      "[[ 0.93785182 -0.71036139 -0.11105136]\n",
      " [ 0.02981084  0.78317973  2.18857157]]\n"
     ]
    }
   ],
   "source": [
    "arr = np.random.randn(2, 3) # Create a 2x3 array of random numbers from a standard normal distribution (mean 0, variance 1)\n",
    "print(arr)\n",
    "# Output:\n",
    "# [[-0.76953065 -0.21063996  0.01985051]\n",
    "#  [ 0.40232155 -1.54520434 -1.02461677]]"
   ]
  },
  {
   "cell_type": "markdown",
   "metadata": {},
   "source": [
    "### **Array Attributes**"
   ]
  },
  {
   "cell_type": "code",
   "execution_count": 22,
   "metadata": {},
   "outputs": [
    {
     "name": "stdout",
     "output_type": "stream",
     "text": [
      "(2, 3)\n"
     ]
    }
   ],
   "source": [
    "arr = np.array([[1, 2, 3], [4, 5, 6]])\n",
    "print(arr.shape)  # Output: (2, 3) which repesents 2 rows and 3 columns"
   ]
  },
  {
   "cell_type": "code",
   "execution_count": 23,
   "metadata": {},
   "outputs": [
    {
     "name": "stdout",
     "output_type": "stream",
     "text": [
      "1\n",
      "2\n"
     ]
    }
   ],
   "source": [
    "arr = np.array([1, 2, 3])\n",
    "print(arr.ndim)  # Output: 1 which represents 1 dimension\n",
    "arr_2d = np.array([[1, 2], [3, 4]])\n",
    "print(arr_2d.ndim)  # Output: 2 which represents 2 dimensions"
   ]
  },
  {
   "cell_type": "code",
   "execution_count": 24,
   "metadata": {},
   "outputs": [
    {
     "name": "stdout",
     "output_type": "stream",
     "text": [
      "6\n"
     ]
    }
   ],
   "source": [
    "arr = np.array([[1, 2, 3], [4, 5, 6]])\n",
    "print(arr.size)  # Output: 6 which represents the total number of elements in the array"
   ]
  },
  {
   "cell_type": "code",
   "execution_count": 25,
   "metadata": {},
   "outputs": [
    {
     "name": "stdout",
     "output_type": "stream",
     "text": [
      "int64\n"
     ]
    }
   ],
   "source": [
    "arr = np.array([1, 2, 3])\n",
    "print(arr.dtype)  # Output: int64 which represents the data type of the elements in the array"
   ]
  },
  {
   "cell_type": "code",
   "execution_count": 26,
   "metadata": {},
   "outputs": [
    {
     "name": "stdout",
     "output_type": "stream",
     "text": [
      "4\n"
     ]
    }
   ],
   "source": [
    "arr = np.array([1, 2, 3], dtype=np.int32)\n",
    "print(arr.itemsize)  # Output: 4 which represents the size in bytes of each element in the array"
   ]
  },
  {
   "cell_type": "code",
   "execution_count": 27,
   "metadata": {},
   "outputs": [
    {
     "name": "stdout",
     "output_type": "stream",
     "text": [
      "[1 2 3]\n"
     ]
    }
   ],
   "source": [
    "arr = np.array([1.5, 2.5, 3.5])\n",
    "arr_int = arr.astype(int)\n",
    "print(arr_int)  # Output: [1 2 3] which represents the array converted to integer type"
   ]
  },
  {
   "cell_type": "markdown",
   "metadata": {},
   "source": [
    "### **Slicing & Masking**"
   ]
  },
  {
   "cell_type": "code",
   "execution_count": 28,
   "metadata": {},
   "outputs": [
    {
     "name": "stdout",
     "output_type": "stream",
     "text": [
      "1\n",
      "[3 4 5 6]\n",
      "[3 4 5 6 7 8]\n",
      "[1 2 3 4 5 6]\n",
      "[1 2 3 4 5 6 7 8]\n",
      "8\n",
      "6\n",
      "[6 7 8]\n",
      "[1 2 3 4 5 6]\n"
     ]
    }
   ],
   "source": [
    "# NumPy array slicing\n",
    "arr = np.array([1, 2, 3, 4, 5, 6, 7, 8])\n",
    "print(arr[0])  # Output: 1\n",
    "print(arr[2:6])  # Output: [3 4 5 6]\n",
    "print(arr[2:])  # Output: [3 4 5 6 7 8]\n",
    "print(arr[:6])  # Output: [1 2 3 4 5 6]\n",
    "print(arr[:])  # Output: [1 2 3 4 5 6 7 8]\n",
    "print(arr[-1])  # Output: 8\n",
    "print(arr[-3])  # Output: 6\n",
    "print(arr[-3:])  # Output: [6 7 8]\n",
    "print(arr[:-2])  # Output: [1 2 3 4 5 6]\n"
   ]
  },
  {
   "cell_type": "code",
   "execution_count": 29,
   "metadata": {},
   "outputs": [
    {
     "name": "stdout",
     "output_type": "stream",
     "text": [
      "1\n",
      "3\n",
      "5\n",
      "7\n",
      "[1 5]\n",
      "[3 7]\n",
      "[[1 2]\n",
      " [5 6]]\n",
      "[[3 4]\n",
      " [7 8]]\n",
      "[1 2 3 4]\n",
      "[5 6 7 8]\n"
     ]
    }
   ],
   "source": [
    "# NumPy 2D array slicing\n",
    "arr = np.array([[1, 2, 3, 4], [5, 6, 7, 8]])\n",
    "print(arr[0, 0])  # Output: 1\n",
    "print(arr[0, 2])  # Output: 3\n",
    "print(arr[1, 0])  # Output: 5\n",
    "print(arr[1, 2])  # Output: 7\n",
    "print(arr[:, 0])  # Output: [1 5]\n",
    "print(arr[:, 2])  # Output: [3 7]\n",
    "print(arr[:, :2])  # Output: [[1 2] [5 6]]\n",
    "print(arr[:, 2:])  # Output: [[3 4] [7 8]]\n",
    "print(arr[0, :])  # Output: [1 2 3 4]\n",
    "print(arr[1, :])  # Output: [5 6 7 8]"
   ]
  },
  {
   "cell_type": "code",
   "execution_count": 30,
   "metadata": {},
   "outputs": [
    {
     "name": "stdout",
     "output_type": "stream",
     "text": [
      "1\n",
      "5\n",
      "[1 5]\n",
      "[3 7]\n",
      "[[1 2]\n",
      " [5 6]]\n",
      "[[3 4]\n",
      " [7 8]]\n",
      "[[1 2]\n",
      " [3 4]]\n"
     ]
    }
   ],
   "source": [
    "# NumPy 3D array slicing\n",
    "arr = np.array([[[1, 2], [3, 4]], [[5, 6], [7, 8]]])\n",
    "print(arr[0, 0, 0])  # Output: 1\n",
    "print(arr[1, 0, 0])  # Output: 5\n",
    "print(arr[:, 0, 0])  # Output: [1 5]\n",
    "print(arr[:, 1, 0])  # Output: [3 7]\n",
    "print(arr[:, 0, :])  # Output: [[1 2] [5 6]]\n",
    "print(arr[:, 1, :])  # Output: [[3 4] [7 8]]\n",
    "print(arr[0, :, :])  # Output: [[1 2] [3 4]]"
   ]
  },
  {
   "cell_type": "code",
   "execution_count": 31,
   "metadata": {},
   "outputs": [
    {
     "name": "stdout",
     "output_type": "stream",
     "text": [
      "[False False False False  True  True  True  True]\n",
      "[5 6 7 8]\n"
     ]
    }
   ],
   "source": [
    "# NumPy array masking\n",
    "arr = np.array([1, 2, 3, 4, 5, 6, 7, 8])\n",
    "mask = arr > 4\n",
    "print(mask)  # Output: [False False False False True True True True]\n",
    "print(arr[mask])  # Output: [5 6 7 8]\n"
   ]
  },
  {
   "cell_type": "code",
   "execution_count": 32,
   "metadata": {},
   "outputs": [
    {
     "name": "stdout",
     "output_type": "stream",
     "text": [
      "[[False False False False]\n",
      " [ True  True  True  True]]\n",
      "[5 6 7 8]\n"
     ]
    }
   ],
   "source": [
    "# NumPy 2D array masking\n",
    "arr = np.array([[1, 2, 3, 4], [5, 6, 7, 8]])\n",
    "mask = arr > 4\n",
    "print(mask)  # Output: [[False False\n",
    "#                        False False]\n",
    "#                       [True True\n",
    "#                        True True]]\n",
    "print(arr[mask])  # Output: [5 6 7 8]"
   ]
  },
  {
   "cell_type": "code",
   "execution_count": 33,
   "metadata": {},
   "outputs": [
    {
     "name": "stdout",
     "output_type": "stream",
     "text": [
      "[1 2 3 4 0 0 0 0]\n"
     ]
    }
   ],
   "source": [
    "# Using masking to modify values\n",
    "arr = np.array([1, 2, 3, 4, 5, 6, 7, 8])\n",
    "mask = arr > 4\n",
    "arr[mask] = 0\n",
    "print(arr)  # Output: [1 2 3 4 0 0 0 0]"
   ]
  },
  {
   "cell_type": "markdown",
   "metadata": {},
   "source": [
    "### **Array Operations**"
   ]
  },
  {
   "cell_type": "code",
   "execution_count": 34,
   "metadata": {},
   "outputs": [
    {
     "name": "stdout",
     "output_type": "stream",
     "text": [
      "[ 6  8 10 12]\n",
      "[-4 -4 -4 -4]\n",
      "[ 5 12 21 32]\n",
      "[0.2        0.33333333 0.42857143 0.5       ]\n",
      "[    1    64  2187 65536]\n"
     ]
    }
   ],
   "source": [
    "# Element-wise Arithmetic Operations\n",
    "arr1 = np.array([1, 2, 3, 4])\n",
    "arr2 = np.array([5, 6, 7, 8])\n",
    "\n",
    "# Element-wise addition\n",
    "result = arr1 + arr2\n",
    "print(result)  # Output: [ 6  8 10 12]\n",
    "\n",
    "# Element-wise subtraction\n",
    "result = arr1 - arr2\n",
    "print(result)  # Output: [-4 -4 -4 -4]\n",
    "\n",
    "# Element-wise multiplication\n",
    "result = arr1 * arr2\n",
    "print(result)  # Output: [ 5 12 21 32]\n",
    "\n",
    "# Element-wise division\n",
    "result = arr1 / arr2\n",
    "print(result)  # Output: [0.2        0.33333333 0.42857143 0.5       ]\n",
    "\n",
    "# Element-wise exponentiation\n",
    "result = arr1 ** arr2\n",
    "print(result)  # Output: [    1    64  2187 65536]\n"
   ]
  },
  {
   "cell_type": "code",
   "execution_count": 35,
   "metadata": {},
   "outputs": [
    {
     "name": "stdout",
     "output_type": "stream",
     "text": [
      "10\n",
      "[4 6]\n",
      "[3 7]\n",
      "1\n",
      "4\n",
      "2.5\n",
      "[2. 3.]\n",
      "[1.5 3.5]\n",
      "1.118033988749895\n"
     ]
    }
   ],
   "source": [
    "#Array-wide Arithmetic Operations\n",
    "arr = np.array([[1, 2], [3, 4]])\n",
    "\n",
    "# Sum of all elements\n",
    "result = arr.sum()\n",
    "print(result)  # Output: 10\n",
    "\n",
    "result = arr.sum(axis=0)\n",
    "print(result)  # Output: [4 6]\n",
    "\n",
    "result = np.sum(arr, axis=1)\n",
    "print(result)  # Output: [3 7]\n",
    "\n",
    "# Minimum value\n",
    "result = arr.min()\n",
    "print(result)  # Output: 1\n",
    "\n",
    "# Maximum value\n",
    "result = arr.max()\n",
    "print(result)  # Output: 4\n",
    "\n",
    "# Mean\n",
    "result = arr.mean()\n",
    "print(result)  # Output: 2.5\n",
    "\n",
    "result = arr.mean(axis=0)\n",
    "print(result)  # Output: [2. 3.]\n",
    "\n",
    "result = np.mean(arr, axis=1)\n",
    "print(result)  # Output: [1.5 3.5]\n",
    "\n",
    "# Standard deviation\n",
    "result = arr.std()\n",
    "print(result)  # Output: 1.118033988749895"
   ]
  },
  {
   "cell_type": "code",
   "execution_count": 36,
   "metadata": {},
   "outputs": [
    {
     "name": "stdout",
     "output_type": "stream",
     "text": [
      "[1.         1.41421356 1.73205081 2.        ]\n",
      "[ 2.71828183  7.3890561  20.08553692 54.59815003]\n",
      "[0.         0.69314718 1.09861229 1.38629436]\n",
      "[ 0.84147098  0.90929743  0.14112001 -0.7568025 ]\n",
      "[ 0.54030231 -0.41614684 -0.9899925  -0.65364362]\n",
      "[ 1.55740772 -2.18503986 -0.14254654  1.15782128]\n",
      "[[1 3]\n",
      " [2 4]]\n",
      "[[ 7 10]\n",
      " [15 22]]\n",
      "[[-2.   1. ]\n",
      " [ 1.5 -0.5]]\n",
      "-2.0000000000000004\n"
     ]
    }
   ],
   "source": [
    "# Universal Functions\n",
    "arr = np.array([1, 2, 3, 4])\n",
    "\n",
    "# Square root\n",
    "result = np.sqrt(arr)\n",
    "print(result)  # Output: [1.         1.41421356 1.73205081 2.        ]\n",
    "\n",
    "# Exponential\n",
    "result = np.exp(arr)\n",
    "print(result)  # Output: [ 2.71828183  7.3890561  20.08553692 54.59815003]\n",
    "\n",
    "# Logarithm\n",
    "result = np.log(arr)\n",
    "print(result)  # Output: [0.         0.69314718 1.09861229 1.38629436]\n",
    "\n",
    "# Trigonometric functions\n",
    "result = np.sin(arr)\n",
    "print(result)  # Output: [ 0.84147098  0.90929743  0.14112001 -0.7568025 ]\n",
    "\n",
    "result = np.cos(arr)\n",
    "print(result)  # Output: [ 0.54030231 -0.41614684 -0.9899925  -0.65364362]\n",
    "\n",
    "result = np.tan(arr)\n",
    "print(result)  # Output: [ 1.55740772 -2.18503986 -0.14254654  1.15782128]\n",
    "\n",
    "# Linear Algebra\n",
    "arr1 = np.array([[1, 2], [3, 4]])\n",
    "\n",
    "# Transpose\n",
    "result = arr1.T\n",
    "print(result)\n",
    "# Output:\n",
    "# [[1 3]\n",
    "#  [2 4]]\n",
    "\n",
    "# Matrix multiplication\n",
    "result = np.dot(arr1, arr1)\n",
    "print(result)\n",
    "\n",
    "# Output:\n",
    "# [[ 7 10]\n",
    "#  [15 22]]\n",
    "\n",
    "# Inverse\n",
    "result = np.linalg.inv(arr1)\n",
    "print(result)\n",
    "\n",
    "# Output:\n",
    "# [[-2.   1. ]\n",
    "#  [ 1.5 -0.5]]\n",
    "\n",
    "# Determinant\n",
    "result = np.linalg.det(arr1)\n",
    "print(result)  # Output: -2.0000000000000004"
   ]
  },
  {
   "cell_type": "code",
   "execution_count": 37,
   "metadata": {},
   "outputs": [
    {
     "name": "stdout",
     "output_type": "stream",
     "text": [
      "[[1 2]\n",
      " [3 4]\n",
      " [5 6]\n",
      " [7 8]]\n",
      "[[1 2 5 6]\n",
      " [3 4 7 8]]\n",
      "[[1 2]\n",
      " [3 4]\n",
      " [5 6]\n",
      " [7 8]]\n",
      "[[1 2 5 6]\n",
      " [3 4 7 8]]\n"
     ]
    }
   ],
   "source": [
    "# Concatenation and Stacking\n",
    "arr1 = np.array([[1, 2], [3, 4]])\n",
    "arr2 = np.array([[5, 6], [7, 8]])\n",
    "\n",
    "# Concatenate along rows\n",
    "result = np.concatenate((arr1, arr2), axis=0)\n",
    "print(result)\n",
    "\n",
    "# Output:\n",
    "# [[1 2]\n",
    "#  [3 4]\n",
    "#  [5 6]\n",
    "#  [7 8]]\n",
    "\n",
    "# Concatenate along columns\n",
    "result = np.concatenate((arr1, arr2), axis=1)\n",
    "print(result)\n",
    "\n",
    "# Output:\n",
    "# [[1 2 5 6]\n",
    "#  [3 4 7 8]]\n",
    "\n",
    "# Stack arrays vertically\n",
    "result = np.vstack((arr1, arr2))\n",
    "print(result)\n",
    "\n",
    "# Output:\n",
    "# [[1 2]\n",
    "#  [3 4]\n",
    "#  [5 6]\n",
    "#  [7 8]]\n",
    "\n",
    "# Stack arrays horizontally\n",
    "result = np.hstack((arr1, arr2))\n",
    "print(result)\n",
    "\n",
    "# Output:\n",
    "# [[1 2 5 6]\n",
    "#  [3 4 7 8]]\n"
   ]
  },
  {
   "cell_type": "markdown",
   "metadata": {},
   "source": [
    "### **Broadcasting**\n",
    "\n",
    "1. Dimensions Compatibility: When comparing two arrays, NumPy compares their shapes element-wise from right to left.\n",
    "- Arrays are compatible for broadcasting if:\n",
    "  - They have the same shape, or\n",
    "  - One of the dimensions is 1 (can be stretched)."
   ]
  },
  {
   "cell_type": "code",
   "execution_count": 38,
   "metadata": {},
   "outputs": [
    {
     "name": "stdout",
     "output_type": "stream",
     "text": [
      "[[3 4]\n",
      " [5 6]]\n"
     ]
    }
   ],
   "source": [
    "# Scalar and Array Broadcasting\n",
    "arr = np.array([[1, 2], [3, 4]])\n",
    "scalar = 2\n",
    "\n",
    "# Add scalar to array\n",
    "result = arr + scalar\n",
    "print(result)"
   ]
  },
  {
   "cell_type": "code",
   "execution_count": 39,
   "metadata": {},
   "outputs": [
    {
     "name": "stdout",
     "output_type": "stream",
     "text": [
      "[[ 6  8]\n",
      " [ 8 10]]\n"
     ]
    }
   ],
   "source": [
    "# Array and Vector Broadcasting\n",
    "arr = np.array([[1, 2], [3, 4]])\n",
    "vector = np.array([5, 6])\n",
    "\n",
    "# Add vector to array\n",
    "result = arr + vector\n",
    "print(result)"
   ]
  },
  {
   "cell_type": "code",
   "execution_count": 40,
   "metadata": {},
   "outputs": [
    {
     "name": "stdout",
     "output_type": "stream",
     "text": [
      "[[ 6  7]\n",
      " [ 9 10]]\n",
      "[[ 5 10]\n",
      " [18 24]]\n"
     ]
    }
   ],
   "source": [
    "# Brodcasting across multiple dimensions\n",
    "arr1 = np.array([[1, 2], [3, 4]])\n",
    "arr2 = np.array([[5], [6]])\n",
    "\n",
    "# Add two arrays\n",
    "result = arr1 + arr2\n",
    "print(result)\n",
    "\n",
    "# Multiplication\n",
    "result = arr1 * arr2\n",
    "print(result)"
   ]
  },
  {
   "cell_type": "code",
   "execution_count": 41,
   "metadata": {},
   "outputs": [
    {
     "name": "stdout",
     "output_type": "stream",
     "text": [
      "[[11 22 33]\n",
      " [41 52 63]]\n"
     ]
    }
   ],
   "source": [
    "arr_1d = np.array([1, 2, 3])\n",
    "\n",
    "# Reshaping the 1D array to match the shape (1, 3)\n",
    "reshaped_arr = arr_1d.reshape((1, 3))\n",
    "\n",
    "matrix_2d = np.array([[10, 20, 30], [40, 50, 60]])\n",
    "\n",
    "# Now, broadcasting is possible\n",
    "result = matrix_2d + reshaped_arr\n",
    "print(result)\n"
   ]
  },
  {
   "cell_type": "code",
   "execution_count": 42,
   "metadata": {},
   "outputs": [
    {
     "name": "stdout",
     "output_type": "stream",
     "text": [
      "[2. 3. 4. 5. 6.]\n"
     ]
    }
   ],
   "source": [
    "def moving_average(arr, n=3):\n",
    "    \"\"\"Calculate the moving average of an array.\"\"\"\n",
    "    ret = np.cumsum(arr, dtype=float)\n",
    "    ret[n:] = ret[n:] - ret[:-n]\n",
    "    return ret[n - 1:] / n\n",
    "\n",
    "signal = np.array([1, 2, 3, 4, 5, 6, 7])\n",
    "print(moving_average(signal, n=3))"
   ]
  },
  {
   "cell_type": "code",
   "execution_count": null,
   "metadata": {},
   "outputs": [],
   "source": []
  }
 ],
 "metadata": {
  "kernelspec": {
   "display_name": "oop",
   "language": "python",
   "name": "python3"
  },
  "language_info": {
   "codemirror_mode": {
    "name": "ipython",
    "version": 3
   },
   "file_extension": ".py",
   "mimetype": "text/x-python",
   "name": "python",
   "nbconvert_exporter": "python",
   "pygments_lexer": "ipython3",
   "version": "3.12.5"
  }
 },
 "nbformat": 4,
 "nbformat_minor": 2
}
